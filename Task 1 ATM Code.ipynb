{
 "cells": [
  {
   "cell_type": "code",
   "execution_count": 2,
   "id": "e4a61f4e-4b81-416b-b5fc-b8f0847dc69e",
   "metadata": {},
   "outputs": [
    {
     "name": "stdin",
     "output_type": "stream",
     "text": [
      "Enter your user ID:  user1\n",
      "Enter your PIN:  1234\n"
     ]
    },
    {
     "name": "stdout",
     "output_type": "stream",
     "text": [
      "Login successful!\n",
      "\n",
      "1. Transaction History\n",
      "2. Withdraw\n",
      "3. Deposit\n",
      "4. Transfer\n",
      "5. Quit\n"
     ]
    },
    {
     "name": "stdin",
     "output_type": "stream",
     "text": [
      "Choose an option:  2\n",
      "Enter amount to withdraw:  1\n"
     ]
    },
    {
     "name": "stdout",
     "output_type": "stream",
     "text": [
      "Withdrawn: 1.0. New Balance: 9999.0\n",
      "\n",
      "1. Transaction History\n",
      "2. Withdraw\n",
      "3. Deposit\n",
      "4. Transfer\n",
      "5. Quit\n"
     ]
    },
    {
     "name": "stdin",
     "output_type": "stream",
     "text": [
      "Choose an option:  1\n"
     ]
    },
    {
     "name": "stdout",
     "output_type": "stream",
     "text": [
      "Type: Withdraw, Amount: 1.0\n",
      "\n",
      "1. Transaction History\n",
      "2. Withdraw\n",
      "3. Deposit\n",
      "4. Transfer\n",
      "5. Quit\n"
     ]
    },
    {
     "name": "stdin",
     "output_type": "stream",
     "text": [
      "Choose an option:  5\n"
     ]
    },
    {
     "name": "stdout",
     "output_type": "stream",
     "text": [
      "Thank you for using the ATM. Goodbye!\n"
     ]
    }
   ],
   "source": [
    "class Account:\n",
    "    def __init__(self, user_id, pin, balance=0):\n",
    "        self.user_id = user_id\n",
    "        self.pin = pin\n",
    "        self.balance = balance\n",
    "\n",
    "class Transaction:\n",
    "    def __init__(self, type, amount):\n",
    "        self.type = type\n",
    "        self.amount = amount\n",
    "\n",
    "class Bank:\n",
    "    def __init__(self):\n",
    "        self.accounts = {}  # Stores accounts with user_id as key\n",
    "        self.transactions = {}  # Stores transaction lists with user_id as key\n",
    "\n",
    "    def add_account(self, account):\n",
    "        self.accounts[account.user_id] = account\n",
    "        self.transactions[account.user_id] = []\n",
    "\n",
    "    def record_transaction(self, user_id, transaction):\n",
    "        self.transactions[user_id].append(transaction)\n",
    "\n",
    "    def validate_login(self, user_id, pin):\n",
    "        account = self.accounts.get(user_id)\n",
    "        if account and account.pin == pin:\n",
    "            return True\n",
    "        return False\n",
    "\n",
    "    def get_account(self, user_id):\n",
    "        return self.accounts.get(user_id)\n",
    "\n",
    "class ATM:\n",
    "    def __init__(self, bank):\n",
    "        self.bank = bank\n",
    "        self.current_user_id = None\n",
    "\n",
    "    def start(self):\n",
    "        user_id = input(\"Enter your user ID: \")\n",
    "        pin = input(\"Enter your PIN: \")\n",
    "        if self.bank.validate_login(user_id, pin):\n",
    "            self.current_user_id = user_id\n",
    "            print(\"Login successful!\")\n",
    "            self.show_menu()\n",
    "        else:\n",
    "            print(\"Invalid credentials!\")\n",
    "\n",
    "    def show_menu(self):\n",
    "        while True:\n",
    "            print(\"\\n1. Transaction History\\n2. Withdraw\\n3. Deposit\\n4. Transfer\\n5. Quit\")\n",
    "            choice = input(\"Choose an option: \")\n",
    "            if choice == \"1\":\n",
    "                self.show_transactions()\n",
    "            elif choice == \"2\":\n",
    "                self.withdraw()\n",
    "            elif choice == \"3\":\n",
    "                self.deposit()\n",
    "            elif choice == \"4\":\n",
    "                self.transfer()\n",
    "            elif choice == \"5\":\n",
    "                print(\"Thank you for using the ATM. Goodbye!\")\n",
    "                self.current_user_id = None\n",
    "                break\n",
    "            else:\n",
    "                print(\"Invalid option!\")\n",
    "\n",
    "    def show_transactions(self):\n",
    "        transactions = self.bank.transactions[self.current_user_id]\n",
    "        if transactions:\n",
    "            for transaction in transactions:\n",
    "                print(f\"Type: {transaction.type}, Amount: {transaction.amount}\")\n",
    "        else:\n",
    "            print(\"No transactions found.\")\n",
    "\n",
    "    def withdraw(self):\n",
    "        amount = float(input(\"Enter amount to withdraw: \"))\n",
    "        account = self.bank.get_account(self.current_user_id)\n",
    "        if account.balance >= amount:\n",
    "            account.balance -= amount\n",
    "            self.bank.record_transaction(self.current_user_id, Transaction(\"Withdraw\", amount))\n",
    "            print(f\"Withdrawn: {amount}. New Balance: {account.balance}\")\n",
    "        else:\n",
    "            print(\"Insufficient funds.\")\n",
    "\n",
    "    def deposit(self):\n",
    "        amount = float(input(\"Enter amount to deposit: \"))\n",
    "        account = self.bank.get_account(self.current_user_id)\n",
    "        account.balance += amount\n",
    "        self.bank.record_transaction(self.current_user_id, Transaction(\"Deposit\", amount))\n",
    "        print(f\"Deposited: {amount}. New Balance: {account.balance}\")\n",
    "\n",
    "    def transfer(self):\n",
    "        recipient_id = input(\"Enter receiver's user ID: \")\n",
    "        amount = float(input(\"Enter amount to transfer: \"))\n",
    "        sender_account = self.bank.get_account(self.current_user_id)\n",
    "        recipient_account = self.bank.get_account(recipient_id)\n",
    "\n",
    "        if sender_account.balance >= amount and recipient_account:\n",
    "            sender_account.balance -= amount\n",
    "            recipient_account.balance += amount\n",
    "            self.bank.record_transaction(self.current_user_id, Transaction(\"Transfer Out\", amount))\n",
    "            self.bank.record_transaction(recipient_id, Transaction(\"Transfer In\", amount))\n",
    "            print(f\"Transferred: {amount} to {recipient_id}. New Balance: {sender_account.balance}\")\n",
    "        else:\n",
    "            print(\"Transfer failed. Check the recipient ID and your balance.\")\n",
    "\n",
    "def main():\n",
    "    bank = Bank()\n",
    "    bank.add_account(Account(\"user1\", \"1234\", 10000))\n",
    "    bank.add_account(Account(\"user2\", \"5678\", 15000))\n",
    "\n",
    "    atm = ATM(bank)\n",
    "    atm.start()\n",
    "\n",
    "if __name__ == \"__main__\":\n",
    "    main()"
   ]
  }
 ],
 "metadata": {
  "kernelspec": {
   "display_name": "Python 3 (ipykernel)",
   "language": "python",
   "name": "python3"
  },
  "language_info": {
   "codemirror_mode": {
    "name": "ipython",
    "version": 3
   },
   "file_extension": ".py",
   "mimetype": "text/x-python",
   "name": "python",
   "nbconvert_exporter": "python",
   "pygments_lexer": "ipython3",
   "version": "3.12.3"
  }
 },
 "nbformat": 4,
 "nbformat_minor": 5
}
